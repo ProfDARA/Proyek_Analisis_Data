{
  "cells": [
    {
      "cell_type": "markdown",
      "metadata": {
        "id": "H9wADwK78DCz"
      },
      "source": [
        "# Proyek Analisis Data: [E-Commerce Public Dataset]\n",
        "- **Nama:** [Danang Agung Restu Aji]\n",
        "- **Email:** [Danangrestuaji@gmail.com]\n",
        "- **ID Dicoding:** [profdara]"
      ]
    },
    {
      "cell_type": "markdown",
      "metadata": {
        "id": "eE0raob58DC0"
      },
      "source": [
        "## Menentukan Pertanyaan Bisnis"
      ]
    },
    {
      "cell_type": "markdown",
      "metadata": {
        "id": "GmQeQ5YF8DC0"
      },
      "source": [
        "- Produk apa yang paling banyak dibeli pelanggan?\n",
        "- Kapan waktu penjualan tertinggi terjadi?\n",
        "- Kota mana yang memiliki volume transaksi tertinggi?\n",
        "- Berapa rata-rata waktu pengiriman dari pembelian ke penerimaan?"
      ]
    },
    {
      "cell_type": "markdown",
      "metadata": {
        "id": "H-z4QGlO8DC1"
      },
      "source": [
        "## Import Semua Packages/Library yang Digunakan"
      ]
    },
    {
      "cell_type": "code",
      "execution_count": null,
      "metadata": {
        "id": "FVYwaObI8DC1"
      },
      "outputs": [
        {
          "ename": "ModuleNotFoundError",
          "evalue": "No module named 'pandas'",
          "output_type": "error",
          "traceback": [
            "\u001b[1;31m---------------------------------------------------------------------------\u001b[0m",
            "\u001b[1;31mModuleNotFoundError\u001b[0m                       Traceback (most recent call last)",
            "Cell \u001b[1;32mIn[11], line 2\u001b[0m\n\u001b[0;32m      1\u001b[0m \u001b[38;5;28;01mimport\u001b[39;00m\u001b[38;5;250m \u001b[39m\u001b[38;5;21;01mos\u001b[39;00m\n\u001b[1;32m----> 2\u001b[0m \u001b[38;5;28;01mimport\u001b[39;00m\u001b[38;5;250m \u001b[39m\u001b[38;5;21;01mpandas\u001b[39;00m\u001b[38;5;250m \u001b[39m\u001b[38;5;28;01mas\u001b[39;00m\u001b[38;5;250m \u001b[39m\u001b[38;5;21;01mpd\u001b[39;00m\n\u001b[0;32m      3\u001b[0m \u001b[38;5;28;01mimport\u001b[39;00m\u001b[38;5;250m \u001b[39m\u001b[38;5;21;01mnumpy\u001b[39;00m\u001b[38;5;250m \u001b[39m\u001b[38;5;28;01mas\u001b[39;00m\u001b[38;5;250m \u001b[39m\u001b[38;5;21;01mnp\u001b[39;00m\n\u001b[0;32m      4\u001b[0m \u001b[38;5;28;01mimport\u001b[39;00m\u001b[38;5;250m \u001b[39m\u001b[38;5;21;01mmatplotlib\u001b[39;00m\u001b[38;5;21;01m.\u001b[39;00m\u001b[38;5;21;01mpyplot\u001b[39;00m\u001b[38;5;250m \u001b[39m\u001b[38;5;28;01mas\u001b[39;00m\u001b[38;5;250m \u001b[39m\u001b[38;5;21;01mplt\u001b[39;00m\n",
            "\u001b[1;31mModuleNotFoundError\u001b[0m: No module named 'pandas'"
          ]
        }
      ],
      "source": [
        "import os\n",
        "import pandas as pd\n",
        "import numpy as np\n",
        "import matplotlib.pyplot as plt\n",
        "import seaborn as sns\n",
        "import plotly.express as px\n",
        "from scipy.stats import zscore"
      ]
    },
    {
      "cell_type": "markdown",
      "metadata": {
        "id": "h_Sh51Xy8DC1"
      },
      "source": [
        "## Data Wrangling"
      ]
    },
    {
      "cell_type": "markdown",
      "metadata": {
        "id": "sXU2GBYu8DC1"
      },
      "source": [
        "### Gathering Data"
      ]
    },
    {
      "cell_type": "code",
      "execution_count": null,
      "metadata": {},
      "outputs": [],
      "source": [
        "# lokasi url dataset pelanggan\n",
        "customer_path = 'https://raw.githubusercontent.com/ProfDARA/Proyek_Analisis_Data/refs/heads/master/E-commerce-public-dataset/E-Commerce%20Public%20Dataset/customers_dataset.csv'\n",
        "\n",
        "# memasukan dataset ke dalam variabel\n",
        "customer = pd.read_csv(customer_path)\n",
        "\n",
        "# bagian menampilkan dataset\n",
        "customer"
      ]
    },
    {
      "cell_type": "code",
      "execution_count": null,
      "metadata": {},
      "outputs": [],
      "source": [
        "# lokasi url dataset geolokasi\n",
        "geolocation_path = 'https://raw.githubusercontent.com/ProfDARA/Proyek_Analisis_Data/refs/heads/master/E-commerce-public-dataset/E-Commerce%20Public%20Dataset/geolocation_dataset.csv'\n",
        "\n",
        "# memasukan dataset ke dalam variabel\n",
        "geolocation = pd.read_csv(geolocation_path)\n",
        "\n",
        "# bagian menampilkan dataset\n",
        "geolocation"
      ]
    },
    {
      "cell_type": "code",
      "execution_count": null,
      "metadata": {},
      "outputs": [],
      "source": [
        "# lokasi url dataset order itemnya\n",
        "order_items_path = 'https://raw.githubusercontent.com/ProfDARA/Proyek_Analisis_Data/refs/heads/master/E-commerce-public-dataset/E-Commerce%20Public%20Dataset/order_items_dataset.csv'\n",
        "\n",
        "# memasukan dataset ke dalam variabel\n",
        "order_items = pd.read_csv(order_items_path)\n",
        "\n",
        "# bagian menampilkan dataset\n",
        "order_items"
      ]
    },
    {
      "cell_type": "code",
      "execution_count": null,
      "metadata": {},
      "outputs": [],
      "source": [
        "# lokasi file dataset order payments\n",
        "order_payments_path = 'https://raw.githubusercontent.com/ProfDARA/Proyek_Analisis_Data/refs/heads/master/E-commerce-public-dataset/E-Commerce%20Public%20Dataset/order_items_dataset.csv'\n",
        "\n",
        "# memasukkan dataset ke dalam variabel\n",
        "order_payments = pd.read_csv(order_payments_path)\n",
        "\n",
        "# menampilkan dataset\n",
        "order_payments\n"
      ]
    },
    {
      "cell_type": "code",
      "execution_count": null,
      "metadata": {},
      "outputs": [],
      "source": [
        "# lokasi file dataset order review\n",
        "order_reviews_path = 'https://raw.githubusercontent.com/ProfDARA/Proyek_Analisis_Data/refs/heads/master/E-commerce-public-dataset/E-Commerce%20Public%20Dataset/order_reviews_dataset.csv'\n",
        "\n",
        "#  memasukkan dataset ke dalam variabel\n",
        "order_reviews = pd.read_csv(order_reviews_path)\n",
        "\n",
        "# menampilkan dataset\n",
        "order_reviews"
      ]
    },
    {
      "cell_type": "code",
      "execution_count": null,
      "metadata": {},
      "outputs": [],
      "source": [
        "# lokasi file dataset orders\n",
        "orders_path = 'https://raw.githubusercontent.com/ProfDARA/Proyek_Analisis_Data/refs/heads/master/E-commerce-public-dataset/E-Commerce%20Public%20Dataset/orders_dataset.csv'\n",
        "\n",
        "# memasukkan dataset ke dalam variabel\n",
        "orders = pd.read_csv(orders_path)\n",
        "\n",
        "# menampilkan dataset\n",
        "orders\n"
      ]
    },
    {
      "cell_type": "code",
      "execution_count": null,
      "metadata": {},
      "outputs": [],
      "source": [
        "# lokasi file dataset product category name translation\n",
        "product_category_translation_path = 'https://raw.githubusercontent.com/ProfDARA/Proyek_Analisis_Data/refs/heads/master/E-commerce-public-dataset/E-Commerce%20Public%20Dataset/product_category_name_translation.csv'\n",
        "\n",
        "# memasukkan dataset ke dalam variabel\n",
        "product_category_translation = pd.read_csv(product_category_translation_path)\n",
        "\n",
        "# menampilkan dataset\n",
        "product_category_translation"
      ]
    },
    {
      "cell_type": "code",
      "execution_count": null,
      "metadata": {},
      "outputs": [],
      "source": [
        "# lokasi file dataset products\n",
        "products_path = 'https://raw.githubusercontent.com/ProfDARA/Proyek_Analisis_Data/refs/heads/master/E-commerce-public-dataset/E-Commerce%20Public%20Dataset/products_dataset.csv'\n",
        "\n",
        "# memasukkan dataset ke dalam variabel\n",
        "products = pd.read_csv(products_path)\n",
        "\n",
        "# menampilkan dataset\n",
        "products"
      ]
    },
    {
      "cell_type": "code",
      "execution_count": null,
      "metadata": {},
      "outputs": [],
      "source": [
        "# Menentukan lokasi file dataset sellers\n",
        "sellers_path = 'https://raw.githubusercontent.com/ProfDARA/Proyek_Analisis_Data/refs/heads/master/E-commerce-public-dataset/E-Commerce%20Public%20Dataset/products_dataset.csv'\n",
        "\n",
        "# Memasukkan dataset ke dalam variabel\n",
        "sellers = pd.read_csv(sellers_path)\n",
        "\n",
        "# Menampilkan dataset\n",
        "sellers"
      ]
    },
    {
      "cell_type": "markdown",
      "metadata": {
        "id": "MMi6xGaDkbCi"
      },
      "source": [
        "**Insight:**\n",
        "\n",
        "customers_dataset.csv berisi Profil pelanggan.\n",
        "- info pelanggan: ID unik, kota, dan provinsi. \n",
        "- customer_id bisa berulang untuk customer_unique_id, menandakan pelanggan bisa memiliki beberapa transaksi/order.\n",
        "- Berguna untuk menganalisis distribusi pelanggan per lokasi (customer_city, customer_state).\n",
        "- ID pelanggan tidak unik terhadap kota, berarti beberapa kota bisa memiliki banyak pelanggan. Dapat dianalisis distribusi pelanggan per kota dan negara bagian.\n",
        "\n",
        "\n",
        "geolocation_dataset.csv berisi Koordinat lokasi (tidak hanya pelanggan).\n",
        "- Berisi koordinat (latitude, longitude) per kode pos.\n",
        "- Bukan hanya untuk pelanggan, tapi semua entitas (penjual juga bisa muncul).\n",
        "- Bisa digunakan untuk menghitung jarak fisik antara penjual dan pembeli, atau memetakan distribusi geografis.\n",
        "- Termasuk titik koordinat (lat/lng), digunakan untuk menghitung jarak penjual-pelanggan atau distribusi spasial.\n",
        "\n",
        "\n",
        "order_items_dataset.csv berisi Detail item per order (multi-row per order).\n",
        "- Setiap baris = satu produk dalam satu pesanan (1 pesanan bisa punya banyak baris).\n",
        "- Memuat product_id, seller_id, harga (price) dan ongkir (freight_value), serta batas pengiriman (shipping_limit_date).\n",
        "- Data penting untuk menghitung: total item per order, penjual paling aktif, dan nilai order.\n",
        "- Beberapa order memiliki lebih dari 1 produk (order_id tidak unik). Dapat dianalisis keranjang rata-rata & produk populer.\n",
        "\n",
        "\n",
        "order_payments_dataset.csv berisi Metode & jumlah pembayaran. Dapat menunjukkan metode pembayaran populer & distribusi jumlah pembayaran.\n",
        "- Satu order bisa memiliki beberapa metode pembayaran (tapi biasanya 1).\n",
        "- Menyediakan jenis pembayaran (payment_type), jumlah pembayaran, dan cicilan (payment_installments).\n",
        "- Bisa digunakan untuk analisis preferensi pembayaran dan korelasi antara metode pembayaran dan nilai pembelian.\n",
        "\n",
        "order_reviews_dataset.csv berisi Ulasan dan rating.\n",
        "Rating (1-5), review headline dan komentar. \n",
        "- Review pelanggan: nilai rating (review_score) + komentar.\n",
        "- Banyak nilai NaN pada review_comment_message, berarti tidak semua memberikan komentar tertulis.\n",
        "- Cocok untuk analisis sentimen dan korelasi antara pengalaman dan keterlambatan pengiriman.\n",
        "\n",
        "orders_dataset.csv berisi Status, tanggal order, pengiriman.\n",
        "-Informasi lengkap alur transaksi: waktu beli, disetujui, dikirim, diterima.\n",
        "-Lama pemrosesan (order_approved_at - order_purchase_timestamp)\n",
        "- Lama pengiriman (order_delivered_customer_date - order_delivered_carrier_date)\n",
        "- Keterlambatan (order_estimated_delivery_date vs order_delivered_customer_date)\n",
        "- Bisa untuk analisis durasi pengiriman dan analisis keterlambatan.\n",
        "\n",
        "product_category_name_translation.csv berisi Penerjemahan kategori produk.\n",
        "- Kamus terjemahan dari product_category_name (Portugis) ke Inggris.\n",
        "- Digunakan untuk interpretasi dan visualisasi kategori produk dengan lebih mudah.\n",
        "- Konversi kategori produk dari Portugis ke Inggris. Penting untuk visualisasi dan interpretasi.\n",
        "\n",
        "\n",
        "products_dataset.csv berisi Informasi produk, termasuk dimensi.\n",
        "bisa digunakan untuk menghitung volume atau hubungan dengan biaya pengiriman.\n",
        "- Info produk: dimensi, berat, jumlah foto.\n",
        "- Analisis hubungan antara ukuran produk dan ongkir (freight_value)\n",
        "\n",
        "\n",
        "sellers_dataset.csv berisi Data penjual dan lokasi.\n",
        "- Info penjual: ID, kota, dan provinsi.\n",
        "Bisa digunakan untuk melihat distribusi penjual secara geografis."
      ]
    },
    {
      "cell_type": "markdown",
      "metadata": {
        "id": "FHSiqaZp8DC1"
      },
      "source": [
        "### Assessing Data"
      ]
    },
    {
      "cell_type": "code",
      "execution_count": null,
      "metadata": {
        "id": "ax-3tEjc9Cj1"
      },
      "outputs": [],
      "source": [
        "customer.info()\n",
        "\n",
        "# Menampilkan jumlah nilai kosong di setiap kolom\n",
        "print(\"Jumlah nilai kosong dalam setiap kolom pada dataset customer:\")\n",
        "print(customer.isna().sum())"
      ]
    },
    {
      "cell_type": "code",
      "execution_count": null,
      "metadata": {},
      "outputs": [],
      "source": [
        "# untuk menampilkan display DataFrame sederhana\n",
        "print(\"Basic info datasetnya :\")\n",
        "print(customer.info())\n",
        "\n",
        "# descriptive statistik untuk kolom\n",
        "print(\"\\n Descriptive statistics untuk kolom numerik:\")\n",
        "print(customer.describe())"
      ]
    },
    {
      "cell_type": "code",
      "execution_count": null,
      "metadata": {},
      "outputs": [],
      "source": [
        "geolocation.info()\n",
        "\n",
        "# untuk melihat berapa bagian unik tiap kolom\n",
        "print(\"Jumlah entri untuk setiap kolom dalam data geolocation:\")\n",
        "geolocation.nunique()\n",
        "\n",
        "# Menampilkan jumlah nilai kosong di setiap kolom\n",
        "print(\"Jumlah nilai kosong dalam setiap kolom pada dataset geolocation:\")\n",
        "print(geolocation.isna().sum())"
      ]
    },
    {
      "cell_type": "code",
      "execution_count": null,
      "metadata": {},
      "outputs": [],
      "source": [
        "# Menghitung Z-score untuk latitude dan longitude\n",
        "geolocation['zscore_lat'] = zscore(geolocation['geolocation_lat'])\n",
        "geolocation['zscore_lng'] = zscore(geolocation['geolocation_lng'])\n",
        "\n",
        "# Menentukan threshold (biasanya 3 atau -3)\n",
        "outliers_z = geolocation[\n",
        "    (geolocation['zscore_lat'].abs() > 3) | (geolocation['zscore_lng'].abs() > 3)\n",
        "]\n",
        "print(f\"Jumlah outlier berdasarkan Z-score: {len(outliers_z)}\")\n",
        "print(outliers_z.head())\n",
        "\n",
        "import matplotlib.pyplot as plt\n",
        "import seaborn as sns\n",
        "\n",
        "plt.figure(figsize=(12, 5))\n",
        "\n",
        "# Boxplot untuk latitude\n",
        "plt.subplot(1, 2, 1)\n",
        "sns.boxplot(y=geolocation['geolocation_lat'])\n",
        "plt.title('Boxplot Latitude')\n",
        "\n",
        "# Boxplot untuk longitude\n",
        "plt.subplot(1, 2, 2)\n",
        "sns.boxplot(y=geolocation['geolocation_lng'])\n",
        "plt.title('Boxplot Longitude')\n",
        "\n",
        "plt.show()"
      ]
    },
    {
      "cell_type": "code",
      "execution_count": null,
      "metadata": {},
      "outputs": [],
      "source": [
        "orders.info()\n",
        "\n",
        "# untuk melihat berapa bagian unik tiap kolom\n",
        "print(\"Jumlah entri untuk setiap kolom dalam data orders:\")\n",
        "orders.nunique()\n",
        "\n",
        "# Menampilkan jumlah nilai kosong di setiap kolom\n",
        "print(\"Jumlah nilai kosong dalam setiap kolom pada dataset orders:\")\n",
        "print(orders.isna().sum())"
      ]
    },
    {
      "cell_type": "markdown",
      "metadata": {
        "id": "7dtxhAPrkhPL"
      },
      "source": [
        "**Insight:**\n",
        "- Jumlah data: 99.441 baris menunjukkan jumlah pelanggan yang besar.\n",
        "- Tidak ada Nulls pada dataset customer, karena customer_id unik\n",
        "- data menunjukkan bahwa ada 31.084 outlier dalam dataset geolocation berdasarkan Z-score. Outlier ini mencakup titik lokasi dengan latitude atau longitude yang memiliki Z-score lebih dari 3 atau kurang dari -3, yang berarti jauh dari distribusi normal data.\n",
        "- Dataset orders berisi 99.441 entri, merepresentasikan pesanan pelanggan dengan informasi tentang status pesanan dan waktu pemrosesan. Semua kolom memiliki jumlah non-null yang sama, berarti tidak ada nilai kosong, sehingga data siap untuk analisis.\n"
      ]
    },
    {
      "cell_type": "markdown",
      "metadata": {
        "id": "EhN5R4hr8DC1"
      },
      "source": [
        "### Cleaning Data"
      ]
    },
    {
      "cell_type": "code",
      "execution_count": null,
      "metadata": {
        "id": "jVnYpprE9Evz"
      },
      "outputs": [],
      "source": [
        "# bagian ini dipakai untuk mencari dan clean missing value\n",
        "def clean_dataframe(df, name):\n",
        "    print(f\"\\n--- {name} ---\")\n",
        "    print(\"Shape:\", df.shape)\n",
        "    print(\"Missing values:\\n\", df.isnull().sum())\n",
        "    df = df.drop_duplicates()\n",
        "    df.columns = [col.strip().lower().replace(\" \", \"_\") for col in df.columns]\n",
        "    return df\n",
        "\n",
        "customer = clean_dataframe(customer, \"Customer\")\n",
        "geolocation = clean_dataframe(geolocation, \"Geolocation\")\n",
        "order_items = clean_dataframe(order_items, \"Order Items\")"
      ]
    },
    {
      "cell_type": "code",
      "execution_count": null,
      "metadata": {},
      "outputs": [],
      "source": [
        "# dipakai untuk drop kolom yang tidak relevan (contoh: zip_code_prefix yang terduplikat)\n",
        "if 'geolocation_zip_code_prefix' in geolocation.columns:\n",
        "    geolocation = geolocation.drop_duplicates(subset=['geolocation_zip_code_prefix', 'geolocation_lat', 'geolocation_lng'])\n",
        "    print(f\"Jumlah data setelah menghapus duplikat: {len(geolocation)}\")\n",
        "\n",
        "# filter lat/lon outliers\n",
        "geolocation = geolocation[(geolocation['geolocation_lat'].between(-90, 90)) &\n",
        "                          (geolocation['geolocation_lng'].between(-180, 180))]\n",
        "print(f\"Jumlah data setelah filter outlier: {len(geolocation)}\") "
      ]
    },
    {
      "cell_type": "code",
      "execution_count": null,
      "metadata": {},
      "outputs": [],
      "source": [
        "# Kalkulasi lower dan upper bounds untuk latitude and longitude menggunakan IQR\n",
        "Q1_lat = geolocation['geolocation_lat'].quantile(0.25)\n",
        "Q3_lat = geolocation['geolocation_lat'].quantile(0.75)\n",
        "IQR_lat = Q3_lat - Q1_lat\n",
        "lower_bound_lat = Q1_lat - 1.5 * IQR_lat\n",
        "upper_bound_lat = Q3_lat + 1.5 * IQR_lat\n",
        "\n",
        "Q1_lng = geolocation['geolocation_lng'].quantile(0.25)\n",
        "Q3_lng = geolocation['geolocation_lng'].quantile(0.75)\n",
        "IQR_lng = Q3_lng - Q1_lng\n",
        "lower_bound_lng = Q1_lng - 1.5 * IQR_lng\n",
        "upper_bound_lng = Q3_lng + 1.5 * IQR_lng\n",
        "\n",
        "# Pada variabel geolocation_clean, perlu dipastikan bahwa lower_bound_lat, upper_bound_lat, lower_bound_lng, dan upper_bound_lng sudah dihitung sebelumnya menggunakan metode Interquartile Range (IQR) atau Z-score.\n",
        "geolocation_clean = geolocation[\n",
        "    (geolocation['geolocation_lat'].between(lower_bound_lat, upper_bound_lat)) &\n",
        "    (geolocation['geolocation_lng'].between(lower_bound_lng, upper_bound_lng))\n",
        "]\n",
        "\n",
        "print(f\"Jumlah data sebelum pembersihan: {len(geolocation)}\")\n",
        "print(f\"Jumlah data setelah pembersihan: {len(geolocation_clean)}\")\n",
        "\n",
        "# Box plot sebelum cleaning\n",
        "plt.figure(figsize=(12, 5))\n",
        "plt.subplot(1, 2, 1)\n",
        "sns.boxplot(y=geolocation['geolocation_lat'])\n",
        "plt.title('Boxplot Latitude (Sebelum Cleaning)')\n",
        "plt.subplot(1, 2, 2)\n",
        "sns.boxplot(y=geolocation['geolocation_lng'])\n",
        "plt.title('Boxplot Longitude (Sebelum Cleaning)')\n",
        "plt.show()\n",
        "\n",
        "# Box plot setelah cleaning\n",
        "plt.figure(figsize=(12, 5))\n",
        "plt.subplot(1, 2, 1)\n",
        "sns.boxplot(y=geolocation_clean['geolocation_lat'])\n",
        "plt.title('Boxplot Latitude (Setelah Cleaning)')\n",
        "plt.subplot(1, 2, 2)\n",
        "sns.boxplot(y=geolocation_clean['geolocation_lng'])\n",
        "plt.title('Boxplot Longitude (Setelah Cleaning)')\n",
        "plt.show()\n"
      ]
    },
    {
      "cell_type": "code",
      "execution_count": null,
      "metadata": {},
      "outputs": [],
      "source": [
        "# Konversi kolom waktu & interpolasi\n",
        "for col in [\"order_purchase_timestamp\", \"order_approved_at\", \"order_delivered_carrier_date\",\n",
        "            \"order_delivered_customer_date\", \"order_estimated_delivery_date\"]:\n",
        "    if col in orders.columns:  \n",
        "        orders[col] = pd.to_datetime(orders[col], errors='coerce')  \n",
        "        print(f\"Konversi kolom {col} selesai. Tipe data sekarang: {orders[col].dtype}\")  \n",
        "\n",
        "# Menampilkan contoh data setelah konversi\n",
        "print(\"\\n Contoh data setelah konversi waktu:\")\n",
        "print(orders[[\"order_purchase_timestamp\", \"order_approved_at\", \"order_delivered_carrier_date\",\n",
        "             \"order_delivered_customer_date\", \"order_estimated_delivery_date\"]].head())  "
      ]
    },
    {
      "cell_type": "code",
      "execution_count": null,
      "metadata": {},
      "outputs": [],
      "source": [
        "# Interpolasi nilai hilang hanya untuk kolom tanggal terkait pengiriman\n",
        "for col in [\"order_approved_at\", \"order_delivered_carrier_date\", \"order_delivered_customer_date\"]:\n",
        "    if col in orders.columns:  # ubahan df ke orders\n",
        "        orders[col].interpolate(method=\"linear\", limit_direction=\"both\", inplace=True)  # ubah df ke orders\n",
        "        print(f\"Interpolasi kolom {col} selesai.\")"
      ]
    },
    {
      "cell_type": "markdown",
      "metadata": {
        "id": "Q_5ejIqckiSP"
      },
      "source": [
        "**Insight:**\n",
        "\n",
        "Dataset Customer\n",
        "- Tidak ada nilai kosong di semua kolom, Untuk dataset yang tidak memiliki missing values, seperti order_items, tidak perlu penanganan lebih lanjut.\n",
        "- Data siap digunakan untuk join dengan data pesanan lewat customer_id.\n",
        "- Jika fokus analisis pada pelanggan unik dapat menggunakan customer_unique_id.\n",
        "\n",
        "Dataset Geolocation\n",
        "- Jumlah data sangat besar: 1.000.163 baris, kemungkinan menunjukkan banyak duplikasi per kode pos.\n",
        "- Tidak ada nilai kosong, namun kemungkinan ada banyak entri dengan zip_code_prefix yang sama namun koordinat berbeda.\n",
        "- Pada geolocation, duplikat dihilangkan berdasarkan kode pos, latitude, dan longitude untuk memastikan hanya satu titik koordinat per kode pos.\n",
        "- Outlier di geolocation dapat ditangani dengan membatasi latitude dan longitude.\n",
        "- outlier latitude/longitude telah diidentifikasi dan dihilangkan dengan filter, memastikan data berada pada rentang geografis yang wajar. Visualisasi boxplot menunjukkan perbedaan data sebelum dan sesudah cleaning. Metode cleaning outlier dapat diperbaiki dengan menggunakan IQR atau Z-score.\n",
        "- Konversi tipe data dan interpolasi dilakukan pada data waktu di kolom orders.\n",
        "\n",
        "Dataset Order Items\n",
        "- Tidak ada nilai kosong, semua data harga dan biaya pengiriman lengkap.\n",
        "- Total item: 112.650 ,kemungkinan satu pesanan berisi lebih dari satu produk.\n",
        "- Data ini siap untuk analisis pendapatan, biaya kirim, dan distribusi penjual."
      ]
    },
    {
      "cell_type": "markdown",
      "metadata": {
        "id": "gp-Y6wU38DC1"
      },
      "source": [
        "## Exploratory Data Analysis (EDA)"
      ]
    },
    {
      "cell_type": "markdown",
      "metadata": {
        "id": "MW7WF2kr8DC1"
      },
      "source": [
        "### Explore Lokasi Data Pelanggan"
      ]
    },
    {
      "cell_type": "code",
      "execution_count": null,
      "metadata": {
        "id": "e9CQCZjk8DC2"
      },
      "outputs": [],
      "source": [
        "# Pengguna berdasar kriteria tertentu\n",
        "print(\"\\n Jumlah Customer Unik:\", customer['customer_id'].nunique())\n",
        "\n",
        "# Assumsi customer relevan berdasar state/\n",
        "print(\"\\n Segmentasi Pelanggan:\")\n",
        "print(customer['customer_state'].value_counts())\n",
        "\n",
        "# Assumsi customer relevan berdasar city\n",
        "print(\"\\n Distribusi Lokasi Pelanggan:\")\n",
        "print(customer['customer_city'].value_counts())"
      ]
    },
    {
      "cell_type": "markdown",
      "metadata": {
        "id": "th_Lzl2Fkj9O"
      },
      "source": [
        "**Insight:**\n",
        "- xxx\n",
        "- xxx"
      ]
    },
    {
      "cell_type": "markdown",
      "metadata": {
        "id": "zsyZjqak8DC2"
      },
      "source": [
        "## Visualization & Explanatory Analysis"
      ]
    },
    {
      "cell_type": "markdown",
      "metadata": {
        "id": "HZxOiQ6n8DC2"
      },
      "source": [
        "### Pertanyaan 1:"
      ]
    },
    {
      "cell_type": "code",
      "execution_count": null,
      "metadata": {
        "id": "1swJUdAD8DC2"
      },
      "outputs": [],
      "source": []
    },
    {
      "cell_type": "markdown",
      "metadata": {
        "id": "DgHI7CiU8DC2"
      },
      "source": [
        "### Pertanyaan 2:"
      ]
    },
    {
      "cell_type": "code",
      "execution_count": null,
      "metadata": {
        "id": "Go0lCsvO8DC2"
      },
      "outputs": [],
      "source": []
    },
    {
      "cell_type": "markdown",
      "metadata": {
        "id": "_0-36BDLklRg"
      },
      "source": [
        "**Insight:**\n",
        "- xxx\n",
        "- xxx"
      ]
    },
    {
      "cell_type": "markdown",
      "metadata": {
        "id": "9y4VUsmcYNZ5"
      },
      "source": [
        "## Analisis Lanjutan (Opsional)"
      ]
    },
    {
      "cell_type": "code",
      "execution_count": null,
      "metadata": {
        "id": "iWhnzsJGYUCO"
      },
      "outputs": [],
      "source": [
        "import plotly.express as px\n",
        "\n",
        "fig = px.scatter_mapbox(geolocation_clean, lat=\"geolocation_lat\", lon=\"geolocation_lng\", zoom=3)\n",
        "fig.update_layout(mapbox_style=\"open-street-map\")\n",
        "fig.update_layout(margin={\"r\":0,\"t\":0,\"l\":0,\"b\":0})\n",
        "fig.show()\n"
      ]
    },
    {
      "cell_type": "markdown",
      "metadata": {
        "id": "_WeHlCeX8DC2"
      },
      "source": [
        "## Conclusion"
      ]
    },
    {
      "cell_type": "markdown",
      "metadata": {
        "id": "ZTcyR48Y8DC2"
      },
      "source": [
        "- Conclution pertanyaan 1\n",
        "- Conclution pertanyaan 2"
      ]
    }
  ],
  "metadata": {
    "colab": {
      "provenance": []
    },
    "kernelspec": {
      "display_name": "Python 3",
      "language": "python",
      "name": "python3"
    },
    "language_info": {
      "codemirror_mode": {
        "name": "ipython",
        "version": 3
      },
      "file_extension": ".py",
      "mimetype": "text/x-python",
      "name": "python",
      "nbconvert_exporter": "python",
      "pygments_lexer": "ipython3",
      "version": "3.10.0"
    },
    "orig_nbformat": 4,
    "vscode": {
      "interpreter": {
        "hash": "972b3bf27e332e87b5379f2791f6ef9dfc79c71018c370b0d7423235e20fe4d7"
      }
    }
  },
  "nbformat": 4,
  "nbformat_minor": 0
}
