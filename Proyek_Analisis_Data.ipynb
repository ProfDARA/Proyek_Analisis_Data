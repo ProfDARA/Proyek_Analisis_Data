{
  "cells": [
    {
      "cell_type": "markdown",
      "metadata": {
        "id": "H9wADwK78DCz"
      },
      "source": [
        "# Proyek Analisis Data: [E-Commerce Public Dataset]\n",
        "- **Nama:** [Danang Agung Restu Aji]\n",
        "- **Email:** [Danangrestuaji@gmail.com]\n",
        "- **ID Dicoding:** [profdara]"
      ]
    },
    {
      "cell_type": "markdown",
      "metadata": {
        "id": "eE0raob58DC0"
      },
      "source": [
        "## Menentukan Pertanyaan Bisnis"
      ]
    },
    {
      "cell_type": "markdown",
      "metadata": {
        "id": "GmQeQ5YF8DC0"
      },
      "source": [
        "- Produk apa yang paling banyak dibeli pelanggan?\n",
        "- Kapan waktu penjualan tertinggi terjadi?\n",
        "- Kota mana yang memiliki volume transaksi tertinggi?\n",
        "- Berapa rata-rata waktu pengiriman dari pembelian ke penerimaan?\n",
        "- Metode pembayaran apa yang paling sering digunakan?"
      ]
    },
    {
      "cell_type": "markdown",
      "metadata": {
        "id": "H-z4QGlO8DC1"
      },
      "source": [
        "## Import Semua Packages/Library yang Digunakan"
      ]
    },
    {
      "cell_type": "code",
      "execution_count": null,
      "metadata": {
        "id": "FVYwaObI8DC1"
      },
      "outputs": [],
      "source": [
        "import os\n",
        "import pandas as pd\n",
        "import numpy as np\n",
        "import matplotlib.pyplot as plt\n",
        "import seaborn as sns\n",
        "import plotly.express as px"
      ]
    },
    {
      "cell_type": "markdown",
      "metadata": {
        "id": "h_Sh51Xy8DC1"
      },
      "source": [
        "## Data Wrangling"
      ]
    },
    {
      "cell_type": "markdown",
      "metadata": {
        "id": "sXU2GBYu8DC1"
      },
      "source": [
        "### Gathering Data"
      ]
    },
    {
      "cell_type": "code",
      "execution_count": null,
      "metadata": {},
      "outputs": [],
      "source": [
        "# lokasi url dataset pelanggan\n",
        "customer_path = 'https://raw.githubusercontent.com/ProfDARA/Proyek_Analisis_Data/refs/heads/master/E-commerce-public-dataset/E-Commerce%20Public%20Dataset/customers_dataset.csv'\n",
        "\n",
        "# memasukan dataset ke dalam variabel\n",
        "customer = pd.read_csv(customer_path)\n",
        "\n",
        "# bagian menampilkan dataset\n",
        "customer"
      ]
    },
    {
      "cell_type": "code",
      "execution_count": null,
      "metadata": {},
      "outputs": [],
      "source": [
        "# lokasi url dataset geolokasi\n",
        "geolocation_path = 'https://raw.githubusercontent.com/ProfDARA/Proyek_Analisis_Data/refs/heads/master/E-commerce-public-dataset/E-Commerce%20Public%20Dataset/geolocation_dataset.csv'\n",
        "\n",
        "# memasukan dataset ke dalam variabel\n",
        "geolocation = pd.read_csv(geolocation_path)\n",
        "\n",
        "# bagian menampilkan dataset\n",
        "geolocation"
      ]
    },
    {
      "cell_type": "code",
      "execution_count": null,
      "metadata": {},
      "outputs": [],
      "source": [
        "# lokasi url dataset order itemnya\n",
        "order_items_path = 'https://raw.githubusercontent.com/ProfDARA/Proyek_Analisis_Data/refs/heads/master/E-commerce-public-dataset/E-Commerce%20Public%20Dataset/order_items_dataset.csv'\n",
        "\n",
        "# memasukan dataset ke dalam variabel\n",
        "order_items = pd.read_csv(order_items_path)\n",
        "\n",
        "# bagian menampilkan dataset\n",
        "order_items"
      ]
    },
    {
      "cell_type": "code",
      "execution_count": null,
      "metadata": {},
      "outputs": [],
      "source": [
        "# lokasi file dataset order payments\n",
        "order_payments_path = 'https://raw.githubusercontent.com/ProfDARA/Proyek_Analisis_Data/refs/heads/master/E-commerce-public-dataset/E-Commerce%20Public%20Dataset/order_items_dataset.csv'\n",
        "\n",
        "# memasukkan dataset ke dalam variabel\n",
        "order_payments = pd.read_csv(order_payments_path)\n",
        "\n",
        "# menampilkan dataset\n",
        "order_payments\n"
      ]
    },
    {
      "cell_type": "code",
      "execution_count": null,
      "metadata": {},
      "outputs": [],
      "source": [
        "# lokasi file dataset order review\n",
        "order_reviews_path = 'https://raw.githubusercontent.com/ProfDARA/Proyek_Analisis_Data/refs/heads/master/E-commerce-public-dataset/E-Commerce%20Public%20Dataset/order_reviews_dataset.csv'\n",
        "\n",
        "#  memasukkan dataset ke dalam variabel\n",
        "order_reviews = pd.read_csv(order_reviews_path)\n",
        "\n",
        "# menampilkan dataset\n",
        "order_reviews"
      ]
    },
    {
      "cell_type": "code",
      "execution_count": null,
      "metadata": {},
      "outputs": [],
      "source": [
        "# lokasi file dataset orders\n",
        "orders_path = 'https://raw.githubusercontent.com/ProfDARA/Proyek_Analisis_Data/refs/heads/master/E-commerce-public-dataset/E-Commerce%20Public%20Dataset/orders_dataset.csv'\n",
        "\n",
        "# memasukkan dataset ke dalam variabel\n",
        "orders = pd.read_csv(orders_path)\n",
        "\n",
        "# menampilkan dataset\n",
        "orders\n"
      ]
    },
    {
      "cell_type": "code",
      "execution_count": null,
      "metadata": {},
      "outputs": [],
      "source": [
        "# lokasi file dataset product category name translation\n",
        "product_category_translation_path = 'https://raw.githubusercontent.com/ProfDARA/Proyek_Analisis_Data/refs/heads/master/E-commerce-public-dataset/E-Commerce%20Public%20Dataset/product_category_name_translation.csv'\n",
        "\n",
        "# memasukkan dataset ke dalam variabel\n",
        "product_category_translation = pd.read_csv(product_category_translation_path)\n",
        "\n",
        "# menampilkan dataset\n",
        "product_category_translation"
      ]
    },
    {
      "cell_type": "code",
      "execution_count": null,
      "metadata": {},
      "outputs": [],
      "source": [
        "# lokasi file dataset products\n",
        "products_path = 'https://raw.githubusercontent.com/ProfDARA/Proyek_Analisis_Data/refs/heads/master/E-commerce-public-dataset/E-Commerce%20Public%20Dataset/products_dataset.csv'\n",
        "\n",
        "# memasukkan dataset ke dalam variabel\n",
        "products = pd.read_csv(products_path)\n",
        "\n",
        "# menampilkan dataset\n",
        "products"
      ]
    },
    {
      "cell_type": "code",
      "execution_count": null,
      "metadata": {},
      "outputs": [],
      "source": [
        "# Menentukan lokasi file dataset sellers\n",
        "sellers_path = 'https://raw.githubusercontent.com/ProfDARA/Proyek_Analisis_Data/refs/heads/master/E-commerce-public-dataset/E-Commerce%20Public%20Dataset/products_dataset.csv'\n",
        "\n",
        "# Memasukkan dataset ke dalam variabel\n",
        "sellers = pd.read_csv(sellers_path)\n",
        "\n",
        "# Menampilkan dataset\n",
        "sellers"
      ]
    },
    {
      "cell_type": "markdown",
      "metadata": {
        "id": "MMi6xGaDkbCi"
      },
      "source": [
        "**Insight:**\n",
        "\n",
        "customers_dataset.csv berisi Profil pelanggan.\n",
        "- info pelanggan: ID unik, kota, dan provinsi. \n",
        "- customer_id bisa berulang untuk customer_unique_id, menandakan pelanggan bisa memiliki beberapa transaksi/order.\n",
        "- Berguna untuk menganalisis distribusi pelanggan per lokasi (customer_city, customer_state).\n",
        "- ID pelanggan tidak unik terhadap kota, berarti beberapa kota bisa memiliki banyak pelanggan. Dapat dianalisis distribusi pelanggan per kota dan negara bagian.\n",
        "\n",
        "\n",
        "geolocation_dataset.csv berisi Koordinat lokasi (tidak hanya pelanggan).\n",
        "- Berisi koordinat (latitude, longitude) per kode pos.\n",
        "- Bukan hanya untuk pelanggan, tapi semua entitas (penjual juga bisa muncul).\n",
        "- Bisa digunakan untuk menghitung jarak fisik antara penjual dan pembeli, atau memetakan distribusi geografis.\n",
        "- Termasuk titik koordinat (lat/lng), digunakan untuk menghitung jarak penjual-pelanggan atau distribusi spasial.\n",
        "\n",
        "\n",
        "order_items_dataset.csv berisi Detail item per order (multi-row per order).\n",
        "- Setiap baris = satu produk dalam satu pesanan (1 pesanan bisa punya banyak baris).\n",
        "- Memuat product_id, seller_id, harga (price) dan ongkir (freight_value), serta batas pengiriman (shipping_limit_date).\n",
        "- Data penting untuk menghitung: total item per order, penjual paling aktif, dan nilai order.\n",
        "- Beberapa order memiliki lebih dari 1 produk (order_id tidak unik). Dapat dianalisis keranjang rata-rata & produk populer.\n",
        "\n",
        "\n",
        "order_payments_dataset.csv berisi Metode & jumlah pembayaran. Dapat menunjukkan metode pembayaran populer & distribusi jumlah pembayaran.\n",
        "- Satu order bisa memiliki beberapa metode pembayaran (tapi biasanya 1).\n",
        "- Menyediakan jenis pembayaran (payment_type), jumlah pembayaran, dan cicilan (payment_installments).\n",
        "- Bisa digunakan untuk analisis preferensi pembayaran dan korelasi antara metode pembayaran dan nilai pembelian.\n",
        "\n",
        "order_reviews_dataset.csv berisi Ulasan dan rating.\n",
        "Rating (1-5), review headline dan komentar. \n",
        "- Review pelanggan: nilai rating (review_score) + komentar.\n",
        "- Banyak nilai NaN pada review_comment_message, berarti tidak semua memberikan komentar tertulis.\n",
        "- Cocok untuk analisis sentimen dan korelasi antara pengalaman dan keterlambatan pengiriman.\n",
        "\n",
        "orders_dataset.csv berisi Status, tanggal order, pengiriman.\n",
        "-Informasi lengkap alur transaksi: waktu beli, disetujui, dikirim, diterima.\n",
        "-Lama pemrosesan (order_approved_at - order_purchase_timestamp)\n",
        "- Lama pengiriman (order_delivered_customer_date - order_delivered_carrier_date)\n",
        "- Keterlambatan (order_estimated_delivery_date vs order_delivered_customer_date)\n",
        "- Bisa untuk analisis durasi pengiriman dan analisis keterlambatan.\n",
        "\n",
        "product_category_name_translation.csv berisi Penerjemahan kategori produk.\n",
        "- Kamus terjemahan dari product_category_name (Portugis) ke Inggris.\n",
        "- Digunakan untuk interpretasi dan visualisasi kategori produk dengan lebih mudah.\n",
        "- Konversi kategori produk dari Portugis ke Inggris. Penting untuk visualisasi dan interpretasi.\n",
        "\n",
        "\n",
        "products_dataset.csv berisi Informasi produk, termasuk dimensi.\n",
        "bisa digunakan untuk menghitung volume atau hubungan dengan biaya pengiriman.\n",
        "- Info produk: dimensi, berat, jumlah foto.\n",
        "- Analisis hubungan antara ukuran produk dan ongkir (freight_value)\n",
        "\n",
        "\n",
        "sellers_dataset.csv berisi Data penjual dan lokasi.\n",
        "- Info penjual: ID, kota, dan provinsi.\n",
        "Bisa digunakan untuk melihat distribusi penjual secara geografis."
      ]
    },
    {
      "cell_type": "markdown",
      "metadata": {
        "id": "FHSiqaZp8DC1"
      },
      "source": [
        "### Assessing Data"
      ]
    },
    {
      "cell_type": "code",
      "execution_count": null,
      "metadata": {
        "id": "ax-3tEjc9Cj1"
      },
      "outputs": [],
      "source": [
        "customer.info()\n",
        "\n",
        "# Menampilkan jumlah nilai kosong di setiap kolom\n",
        "print(\"Jumlah nilai kosong dalam setiap kolom pada dataset customer:\")\n",
        "print(customer.isna().sum())"
      ]
    },
    {
      "cell_type": "code",
      "execution_count": null,
      "metadata": {},
      "outputs": [],
      "source": [
        "# untuk menampilkan display DataFrame sederhana\n",
        "print(\"Basic information about the dataset:\")\n",
        "print(customer.info())\n",
        "\n",
        "# descriptive statistik untuk kolom\n",
        "print(\"\\nDescriptive statistics for numerical columns:\")\n",
        "print(customer.describe())"
      ]
    },
    {
      "cell_type": "code",
      "execution_count": null,
      "metadata": {},
      "outputs": [],
      "source": [
        "geolocation.info()\n",
        "\n",
        "# untuk melihat berapa bagian unik tiap kolom\n",
        "print(\"Jumlah entri untuk setiap kolom dalam data geolocation:\")\n",
        "geolocation.nunique()\n",
        "\n",
        "# Menampilkan jumlah nilai kosong di setiap kolom\n",
        "print(\"Jumlah nilai kosong dalam setiap kolom pada dataset geolocation:\")\n",
        "print(geolocation.isna().sum())"
      ]
    },
    {
      "cell_type": "code",
      "execution_count": null,
      "metadata": {},
      "outputs": [],
      "source": [
        "order_items.info()\n",
        "\n",
        "# untuk melihat berapa bagian unik tiap kolom\n",
        "print(\"Jumlah entri untuk setiap kolom dalam data order_items:\")\n",
        "order_items.nunique()\n",
        "\n",
        "# Menampilkan jumlah nilai kosong di setiap kolom\n",
        "print(\"Jumlah nilai kosong dalam setiap kolom pada dataset order_items:\")\n",
        "print(order_items.isna().sum())"
      ]
    },
    {
      "cell_type": "markdown",
      "metadata": {
        "id": "7dtxhAPrkhPL"
      },
      "source": [
        "**Insight:**\n",
        "- Jumlah data: 99.441 baris menunjukkan jumlah pelanggan yang besar.\n",
        "- Tidak ada Nulls pada dataset customer, karena customer_id unik, maka dapat digunakan sebagai primary key\n",
        "- karena ada duplikat pada zip code (kode pos) maka dapat menggunakan relasi many to one\n",
        "- nilai lat/lon harus dicek outliernya untuk step data cleaning\n",
        "- order_item_id bersifat unik sehingga dapat digunakan untuk PK\n",
        "- verifikasi nilai nol atau negatif diperlukan untuk melihat harga check out"
      ]
    },
    {
      "cell_type": "markdown",
      "metadata": {
        "id": "EhN5R4hr8DC1"
      },
      "source": [
        "### Cleaning Data"
      ]
    },
    {
      "cell_type": "code",
      "execution_count": null,
      "metadata": {
        "id": "jVnYpprE9Evz"
      },
      "outputs": [],
      "source": [
        "# bagian ini dipakai untuk mencari dan clean missing value\n",
        "def clean_dataframe(df, name):\n",
        "    print(f\"\\n--- {name} ---\")\n",
        "    print(\"Shape:\", df.shape)\n",
        "    print(\"Missing values:\\n\", df.isnull().sum())\n",
        "    df = df.drop_duplicates()\n",
        "    df.columns = [col.strip().lower().replace(\" \", \"_\") for col in df.columns]\n",
        "    return df\n",
        "\n",
        "customer = clean_dataframe(customer, \"Customer\")\n",
        "geolocation = clean_dataframe(geolocation, \"Geolocation\")\n",
        "order_items = clean_dataframe(order_items, \"Order Items\")"
      ]
    },
    {
      "cell_type": "code",
      "execution_count": null,
      "metadata": {},
      "outputs": [],
      "source": [
        "# dipakai untuk drop kolom yang tidak relevan (contoh: zip_code_prefix yang terduplikat)\n",
        "if 'geolocation_zip_code_prefix' in geolocation.columns:\n",
        "    geolocation = geolocation.drop_duplicates(subset=['geolocation_zip_code_prefix', 'geolocation_lat', 'geolocation_lng'])\n",
        "\n",
        "# filter lat/lon outliers\n",
        "geolocation = geolocation[(geolocation['geolocation_lat'].between(-90, 90)) &\n",
        "                          (geolocation['geolocation_lng'].between(-180, 180))]"
      ]
    },
    {
      "cell_type": "markdown",
      "metadata": {
        "id": "Q_5ejIqckiSP"
      },
      "source": [
        "**Insight:**\n",
        "\n",
        "Dataset Customer\n",
        "- Tidak ada nilai kosong di semua kolom\n",
        "- Data siap digunakan untuk join dengan data pesanan lewat customer_id.\n",
        "- Jika fokus analisis pada pelanggan unik dapat menggunakan customer_unique_id.\n",
        "\n",
        "Dataset Geolocation\n",
        "- Jumlah data sangat besar: 1.000.163 baris, menunjukkan banyak duplikasi per kode pos.\n",
        "- Tidak ada nilai kosong, namun kemungkinan ada banyak entri dengan zip_code_prefix yang sama namun koordinat berbeda.\n",
        "- Berguna untuk analisis geospasial atau pemetaan persebaran lokasi.\n",
        "\n",
        "Dataset Order Items\n",
        "- Tidak ada nilai kosong, semua data harga dan biaya pengiriman lengkap.\n",
        "- Total item: 112.650 ,kemungkinan satu pesanan berisi lebih dari satu produk.\n",
        "- Data ini siap untuk analisis pendapatan, biaya kirim, dan distribusi penjual."
      ]
    },
    {
      "cell_type": "markdown",
      "metadata": {
        "id": "gp-Y6wU38DC1"
      },
      "source": [
        "## Exploratory Data Analysis (EDA)"
      ]
    },
    {
      "cell_type": "markdown",
      "metadata": {
        "id": "MW7WF2kr8DC1"
      },
      "source": [
        "### Explore ..."
      ]
    },
    {
      "cell_type": "code",
      "execution_count": null,
      "metadata": {
        "id": "e9CQCZjk8DC2"
      },
      "outputs": [],
      "source": []
    },
    {
      "cell_type": "markdown",
      "metadata": {
        "id": "th_Lzl2Fkj9O"
      },
      "source": [
        "**Insight:**\n",
        "- xxx\n",
        "- xxx"
      ]
    },
    {
      "cell_type": "markdown",
      "metadata": {
        "id": "zsyZjqak8DC2"
      },
      "source": [
        "## Visualization & Explanatory Analysis"
      ]
    },
    {
      "cell_type": "markdown",
      "metadata": {
        "id": "HZxOiQ6n8DC2"
      },
      "source": [
        "### Pertanyaan 1:"
      ]
    },
    {
      "cell_type": "code",
      "execution_count": null,
      "metadata": {
        "id": "1swJUdAD8DC2"
      },
      "outputs": [],
      "source": []
    },
    {
      "cell_type": "markdown",
      "metadata": {
        "id": "DgHI7CiU8DC2"
      },
      "source": [
        "### Pertanyaan 2:"
      ]
    },
    {
      "cell_type": "code",
      "execution_count": null,
      "metadata": {
        "id": "Go0lCsvO8DC2"
      },
      "outputs": [],
      "source": []
    },
    {
      "cell_type": "markdown",
      "metadata": {
        "id": "_0-36BDLklRg"
      },
      "source": [
        "**Insight:**\n",
        "- xxx\n",
        "- xxx"
      ]
    },
    {
      "cell_type": "markdown",
      "metadata": {
        "id": "9y4VUsmcYNZ5"
      },
      "source": [
        "## Analisis Lanjutan (Opsional)"
      ]
    },
    {
      "cell_type": "code",
      "execution_count": null,
      "metadata": {
        "id": "iWhnzsJGYUCO"
      },
      "outputs": [],
      "source": []
    },
    {
      "cell_type": "markdown",
      "metadata": {
        "id": "_WeHlCeX8DC2"
      },
      "source": [
        "## Conclusion"
      ]
    },
    {
      "cell_type": "markdown",
      "metadata": {
        "id": "ZTcyR48Y8DC2"
      },
      "source": [
        "- Conclution pertanyaan 1\n",
        "- Conclution pertanyaan 2"
      ]
    }
  ],
  "metadata": {
    "colab": {
      "provenance": []
    },
    "kernelspec": {
      "display_name": "Python 3",
      "language": "python",
      "name": "python3"
    },
    "language_info": {
      "name": "python",
      "version": "3.8.0 (tags/v3.8.0:fa919fd, Oct 14 2019, 19:21:23) [MSC v.1916 32 bit (Intel)]"
    },
    "orig_nbformat": 4,
    "vscode": {
      "interpreter": {
        "hash": "972b3bf27e332e87b5379f2791f6ef9dfc79c71018c370b0d7423235e20fe4d7"
      }
    }
  },
  "nbformat": 4,
  "nbformat_minor": 0
}
