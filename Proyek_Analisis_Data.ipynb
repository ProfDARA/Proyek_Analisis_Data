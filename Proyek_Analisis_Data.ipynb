{
  "cells": [
    {
      "cell_type": "markdown",
      "metadata": {
        "id": "H9wADwK78DCz"
      },
      "source": [
        "# Proyek Analisis Data: [Input Nama Dataset]\n",
        "- **Nama:** Danang Agung Restu Aji\n",
        "- **Email:** Danangrestuaji@gmail.com\n",
        "- **ID Dicoding:** profdara"
      ]
    },
    {
      "cell_type": "markdown",
      "metadata": {
        "id": "eE0raob58DC0"
      },
      "source": [
        "## Menentukan Pertanyaan Bisnis"
      ]
    },
    {
      "cell_type": "markdown",
      "metadata": {
        "id": "GmQeQ5YF8DC0"
      },
      "source": [
        "- Produk apa yang paling banyak dibeli pelanggan?\n",
        "- Kapan waktu penjualan tertinggi terjadi?\n",
        "- Kota mana yang memiliki volume transaksi tertinggi?\n",
        "- Berapa rata-rata waktu pengiriman dari pembelian ke penerimaan?\n",
        "- Metode pembayaran apa yang paling sering digunakan?"
      ]
    },
    {
      "cell_type": "markdown",
      "metadata": {
        "id": "H-z4QGlO8DC1"
      },
      "source": [
        "## Import Semua Packages/Library yang Digunakan"
      ]
    },
    {
      "cell_type": "code",
      "execution_count": null,
      "metadata": {
        "id": "FVYwaObI8DC1"
      },
      "outputs": [],
      "source": [
        "import os\n",
        "import pandas as pd\n",
        "import numpy as np\n",
        "import matplotlib.pyplot as plt\n",
        "import seaborn as sns\n",
        "import plotly.express as px"
      ]
    },
    {
      "cell_type": "markdown",
      "metadata": {
        "id": "h_Sh51Xy8DC1"
      },
      "source": [
        "## Data Wrangling"
      ]
    },
    {
      "cell_type": "markdown",
      "metadata": {
        "id": "sXU2GBYu8DC1"
      },
      "source": [
        "### Gathering Data"
      ]
    },
    {
      "cell_type": "code",
      "execution_count": null,
      "metadata": {
        "id": "zjCBk1BI8DC1"
      },
      "outputs": [],
      "source": [
        "# tempat file ZIP yang akan diekstrak\n",
        "zip_path = \"/content/E-commerce-public-dataset.zip\"\n",
        "extract_path = \"/content/E-Commerce Public Dataset\"\n",
        "\n",
        "# code ekstrak file\n",
        "with zipfile.ZipFile(zip_path, \"r\") as zip_ref:\n",
        "    zip_ref.extractall(extract_path)\n",
        "    extracted_files = zip_ref.namelist()\n",
        "\n",
        "print(\"Ekstraksi selesai!\")\n",
        "\n",
        "# bagian daftar file yang telah diekstrak\n",
        "print(\"Daftar file yang diekstrak:\")\n",
        "for file in extracted_files:\n",
        "    print(file)\n"
      ]
    },
    {
      "cell_type": "code",
      "execution_count": null,
      "metadata": {},
      "outputs": [],
      "source": [
        "# untuk mengecek file zip diatas apakah bisa terbaca dan tidak eror\n",
        "dataset_path = \"/content/E-Commerce Public Dataset\"\n",
        "file_names = [\n",
        "    \"customers_dataset.csv\",\n",
        "    \"geolocation_dataset.csv\",\n",
        "    \"order_items_dataset.csv\",\n",
        "    \"order_payments_dataset.csv\",\n",
        "    \"order_reviews_dataset.csv\",\n",
        "    \"orders_dataset.csv\",\n",
        "    \"product_category_name_translation.csv\",\n",
        "    \"products_dataset.csv\",\n",
        "    \"sellers_dataset.csv\"\n",
        "]\n",
        "\n",
        "# ini untuk bagian reviw semua dataset dan menampilkannya sekilas\n",
        "datasets = {}\n",
        "for file_name in file_names:\n",
        "    file_path = os.path.join(dataset_path, file_name)\n",
        "    df = pd.read_csv(file_path)\n",
        "    datasets[file_name] = df\n",
        "    print(f\"\\n===== {file_name} =====\")\n",
        "    print(df.head(), \"\\n\")  # Menampilkan 5 baris pertama dari setiap dataset\n",
        "\n",
        "print(\"Pembacaan data selesai!\")"
      ]
    },
    {
      "cell_type": "code",
      "execution_count": null,
      "metadata": {},
      "outputs": [],
      "source": [
        "# Menentukan lokasi file dataset pelanggan\n",
        "customer_path = \"/content/E-Commerce Public Dataset/customers_dataset.csv\"\n",
        "\n",
        "# memasukan dataset ke dalam variabel\n",
        "customer = pd.read_csv(customer_path)\n",
        "\n",
        "# bagian menampilkan dataset\n",
        "customer"
      ]
    },
    {
      "cell_type": "code",
      "execution_count": null,
      "metadata": {},
      "outputs": [],
      "source": [
        "# Menentukan lokasi file dataset pelanggan\n",
        "geolocation_path = \"E-Commerce Public Dataset/geolocation_dataset.csv\"\n",
        "\n",
        "# memasukan dataset ke dalam variabel\n",
        "geolocation = pd.read_csv(geolocation_path)\n",
        "\n",
        "# bagian menampilkan dataset\n",
        "geolocation"
      ]
    },
    {
      "cell_type": "code",
      "execution_count": null,
      "metadata": {},
      "outputs": [],
      "source": [
        "# Menentukan lokasi file dataset pelanggan\n",
        "order_items_path = \"E-Commerce Public Dataset/order_items_dataset.csv\"\n",
        "\n",
        "# Membaca dataset ke dalam variabel\n",
        "order_items = pd.read_csv(order_items_path)\n",
        "\n",
        "# bagian menampilkan dataset\n",
        "order_items"
      ]
    },
    {
      "cell_type": "code",
      "execution_count": null,
      "metadata": {},
      "outputs": [],
      "source": [
        "# Menentukan lokasi file dataset order items\n",
        "order_items_path = \"E-Commerce Public Dataset/order_items_dataset.csv\"\n",
        "\n",
        "# Memasukkan dataset ke dalam variabel\n",
        "order_items = pd.read_csv(order_items_path)\n",
        "\n",
        "# Menampilkan dataset\n",
        "order_items"
      ]
    },
    {
      "cell_type": "code",
      "execution_count": null,
      "metadata": {},
      "outputs": [],
      "source": [
        "# Menentukan lokasi file dataset order payments\n",
        "order_payments_path = \"E-Commerce Public Dataset/order_payments_dataset.csv\"\n",
        "\n",
        "# Memasukkan dataset ke dalam variabel\n",
        "order_payments = pd.read_csv(order_payments_path)\n",
        "\n",
        "# Menampilkan dataset\n",
        "order_payments"
      ]
    },
    {
      "cell_type": "code",
      "execution_count": null,
      "metadata": {},
      "outputs": [],
      "source": [
        "# Menentukan lokasi file dataset order reviews\n",
        "order_reviews_path = \"E-Commerce Public Dataset/order_reviews_dataset.csv\"\n",
        "\n",
        "# Memasukkan dataset ke dalam variabel\n",
        "order_reviews = pd.read_csv(order_reviews_path)\n",
        "\n",
        "# Menampilkan dataset\n",
        "order_reviews"
      ]
    },
    {
      "cell_type": "code",
      "execution_count": null,
      "metadata": {},
      "outputs": [],
      "source": [
        "# Menentukan lokasi file dataset orders\n",
        "orders_path = \"E-Commerce Public Dataset/orders_dataset.csv\"\n",
        "\n",
        "# Memasukkan dataset ke dalam variabel\n",
        "orders = pd.read_csv(orders_path)\n",
        "\n",
        "# Menampilkan dataset\n",
        "orders"
      ]
    },
    {
      "cell_type": "code",
      "execution_count": null,
      "metadata": {},
      "outputs": [],
      "source": [
        "# Menentukan lokasi file dataset product category name translation\n",
        "product_category_translation_path = \"E-Commerce Public Dataset/product_category_name_translation.csv\"\n",
        "\n",
        "# Memasukkan dataset ke dalam variabel\n",
        "product_category_translation = pd.read_csv(product_category_translation_path)\n",
        "\n",
        "# Menampilkan dataset\n",
        "product_category_translation"
      ]
    },
    {
      "cell_type": "code",
      "execution_count": null,
      "metadata": {},
      "outputs": [],
      "source": [
        "# Menentukan lokasi file dataset products\n",
        "products_path = \"E-Commerce Public Dataset/products_dataset.csv\"\n",
        "\n",
        "# Memasukkan dataset ke dalam variabel\n",
        "products = pd.read_csv(products_path)\n",
        "\n",
        "# Menampilkan dataset\n",
        "products"
      ]
    },
    {
      "cell_type": "code",
      "execution_count": null,
      "metadata": {},
      "outputs": [],
      "source": [
        "# Menentukan lokasi file dataset sellers\n",
        "sellers_path = \"E-Commerce Public Dataset/sellers_dataset.csv\"\n",
        "\n",
        "# Memasukkan dataset ke dalam variabel\n",
        "sellers = pd.read_csv(sellers_path)\n",
        "\n",
        "# Menampilkan dataset\n",
        "sellers"
      ]
    },
    {
      "cell_type": "markdown",
      "metadata": {
        "id": "MMi6xGaDkbCi"
      },
      "source": [
        "**Insight:**\n",
        "\n",
        "customers_dataset.csv berisi Profil pelanggan.\n",
        "- info pelanggan: ID unik, kota, dan provinsi. \n",
        "- customer_id bisa berulang untuk customer_unique_id, menandakan pelanggan bisa memiliki beberapa transaksi/order.\n",
        "- Berguna untuk menganalisis distribusi pelanggan per lokasi (customer_city, customer_state).\n",
        "- ID pelanggan tidak unik terhadap kota, berarti beberapa kota bisa memiliki banyak pelanggan. Dapat dianalisis distribusi pelanggan per kota dan negara bagian.\n",
        "\n",
        "\n",
        "geolocation_dataset.csv berisi Koordinat lokasi (tidak hanya pelanggan).\n",
        "- Berisi koordinat (latitude, longitude) per kode pos.\n",
        "- Bukan hanya untuk pelanggan, tapi semua entitas (penjual juga bisa muncul).\n",
        "- Bisa digunakan untuk menghitung jarak fisik antara penjual dan pembeli, atau memetakan distribusi geografis.\n",
        "- Termasuk titik koordinat (lat/lng), digunakan untuk menghitung jarak penjual-pelanggan atau distribusi spasial.\n",
        "\n",
        "\n",
        "order_items_dataset.csv berisi Detail item per order (multi-row per order).\n",
        "- Setiap baris = satu produk dalam satu pesanan (1 pesanan bisa punya banyak baris).\n",
        "- Memuat product_id, seller_id, harga (price) dan ongkir (freight_value), serta batas pengiriman (shipping_limit_date).\n",
        "- Data penting untuk menghitung: total item per order, penjual paling aktif, dan nilai order.\n",
        "- Beberapa order memiliki lebih dari 1 produk (order_id tidak unik). Dapat dianalisis keranjang rata-rata & produk populer.\n",
        "\n",
        "\n",
        "order_payments_dataset.csv berisi Metode & jumlah pembayaran. Dapat menunjukkan metode pembayaran populer & distribusi jumlah pembayaran.\n",
        "- Satu order bisa memiliki beberapa metode pembayaran (tapi biasanya 1).\n",
        "- Menyediakan jenis pembayaran (payment_type), jumlah pembayaran, dan cicilan (payment_installments).\n",
        "- Bisa digunakan untuk analisis preferensi pembayaran dan korelasi antara metode pembayaran dan nilai pembelian.\n",
        "\n",
        "order_reviews_dataset.csv berisi Ulasan dan rating.\n",
        "Rating (1-5), review headline dan komentar. \n",
        "- Review pelanggan: nilai rating (review_score) + komentar.\n",
        "- Banyak nilai NaN pada review_comment_message, berarti tidak semua memberikan komentar tertulis.\n",
        "- Cocok untuk analisis sentimen dan korelasi antara pengalaman dan keterlambatan pengiriman.\n",
        "\n",
        "orders_dataset.csv berisi Status, tanggal order, pengiriman.\n",
        "-Informasi lengkap alur transaksi: waktu beli, disetujui, dikirim, diterima.\n",
        "-Lama pemrosesan (order_approved_at - order_purchase_timestamp)\n",
        "- Lama pengiriman (order_delivered_customer_date - order_delivered_carrier_date)\n",
        "- Keterlambatan (order_estimated_delivery_date vs order_delivered_customer_date)\n",
        "- Bisa untuk analisis durasi pengiriman dan analisis keterlambatan.\n",
        "\n",
        "product_category_name_translation.csv berisi Penerjemahan kategori produk.\n",
        "- Kamus terjemahan dari product_category_name (Portugis) ke Inggris.\n",
        "- Digunakan untuk interpretasi dan visualisasi kategori produk dengan lebih mudah.\n",
        "- Konversi kategori produk dari Portugis ke Inggris. Penting untuk visualisasi dan interpretasi.\n",
        "\n",
        "\n",
        "products_dataset.csv berisi Informasi produk, termasuk dimensi.\n",
        "bisa digunakan untuk menghitung volume atau hubungan dengan biaya pengiriman.\n",
        "- Info produk: dimensi, berat, jumlah foto.\n",
        "- Analisis hubungan antara ukuran produk dan ongkir (freight_value)\n",
        "\n",
        "\n",
        "sellers_dataset.csv berisi Data penjual dan lokasi.\n",
        "- Info penjual: ID, kota, dan provinsi.\n",
        "Bisa digunakan untuk melihat distribusi penjual secara geografis."
      ]
    },
    {
      "cell_type": "markdown",
      "metadata": {},
      "source": []
    },
    {
      "cell_type": "markdown",
      "metadata": {
        "id": "FHSiqaZp8DC1"
      },
      "source": [
        "### Assessing Data"
      ]
    },
    {
      "cell_type": "code",
      "execution_count": null,
      "metadata": {
        "id": "ax-3tEjc9Cj1"
      },
      "outputs": [],
      "source": []
    },
    {
      "cell_type": "markdown",
      "metadata": {
        "id": "7dtxhAPrkhPL"
      },
      "source": [
        "**Insight:**\n",
        "- xxx\n",
        "- xxx"
      ]
    },
    {
      "cell_type": "markdown",
      "metadata": {
        "id": "EhN5R4hr8DC1"
      },
      "source": [
        "### Cleaning Data"
      ]
    },
    {
      "cell_type": "code",
      "execution_count": null,
      "metadata": {
        "id": "jVnYpprE9Evz"
      },
      "outputs": [],
      "source": []
    },
    {
      "cell_type": "markdown",
      "metadata": {
        "id": "Q_5ejIqckiSP"
      },
      "source": [
        "**Insight:**\n",
        "- xxx\n",
        "- xxx"
      ]
    },
    {
      "cell_type": "markdown",
      "metadata": {
        "id": "gp-Y6wU38DC1"
      },
      "source": [
        "## Exploratory Data Analysis (EDA)"
      ]
    },
    {
      "cell_type": "markdown",
      "metadata": {
        "id": "MW7WF2kr8DC1"
      },
      "source": [
        "### Explore ..."
      ]
    },
    {
      "cell_type": "code",
      "execution_count": null,
      "metadata": {
        "id": "e9CQCZjk8DC2"
      },
      "outputs": [],
      "source": []
    },
    {
      "cell_type": "markdown",
      "metadata": {
        "id": "th_Lzl2Fkj9O"
      },
      "source": [
        "**Insight:**\n",
        "- xxx\n",
        "- xxx"
      ]
    },
    {
      "cell_type": "markdown",
      "metadata": {
        "id": "zsyZjqak8DC2"
      },
      "source": [
        "## Visualization & Explanatory Analysis"
      ]
    },
    {
      "cell_type": "markdown",
      "metadata": {
        "id": "HZxOiQ6n8DC2"
      },
      "source": [
        "### Pertanyaan 1:"
      ]
    },
    {
      "cell_type": "code",
      "execution_count": null,
      "metadata": {
        "id": "1swJUdAD8DC2"
      },
      "outputs": [],
      "source": []
    },
    {
      "cell_type": "markdown",
      "metadata": {
        "id": "DgHI7CiU8DC2"
      },
      "source": [
        "### Pertanyaan 2:"
      ]
    },
    {
      "cell_type": "code",
      "execution_count": null,
      "metadata": {
        "id": "Go0lCsvO8DC2"
      },
      "outputs": [],
      "source": []
    },
    {
      "cell_type": "markdown",
      "metadata": {
        "id": "_0-36BDLklRg"
      },
      "source": [
        "**Insight:**\n",
        "- xxx\n",
        "- xxx"
      ]
    },
    {
      "cell_type": "markdown",
      "metadata": {
        "id": "9y4VUsmcYNZ5"
      },
      "source": [
        "## Analisis Lanjutan (Opsional)"
      ]
    },
    {
      "cell_type": "code",
      "execution_count": null,
      "metadata": {
        "id": "iWhnzsJGYUCO"
      },
      "outputs": [],
      "source": []
    },
    {
      "cell_type": "markdown",
      "metadata": {
        "id": "_WeHlCeX8DC2"
      },
      "source": [
        "## Conclusion"
      ]
    },
    {
      "cell_type": "markdown",
      "metadata": {
        "id": "ZTcyR48Y8DC2"
      },
      "source": [
        "- Conclution pertanyaan 1\n",
        "- Conclution pertanyaan 2"
      ]
    }
  ],
  "metadata": {
    "colab": {
      "provenance": []
    },
    "kernelspec": {
      "display_name": "Python 3",
      "language": "python",
      "name": "python3"
    },
    "language_info": {
      "name": "python",
      "version": "3.8.0 (tags/v3.8.0:fa919fd, Oct 14 2019, 19:21:23) [MSC v.1916 32 bit (Intel)]"
    },
    "orig_nbformat": 4,
    "vscode": {
      "interpreter": {
        "hash": "972b3bf27e332e87b5379f2791f6ef9dfc79c71018c370b0d7423235e20fe4d7"
      }
    }
  },
  "nbformat": 4,
  "nbformat_minor": 0
}
